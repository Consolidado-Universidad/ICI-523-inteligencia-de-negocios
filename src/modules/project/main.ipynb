{
 "cells": [
  {
   "cell_type": "code",
   "execution_count": 2,
   "metadata": {},
   "outputs": [],
   "source": [
    "import pandas as pd\n",
    "\n",
    "def convert_excel_to_csv(file_path, output_folder):\n",
    "    # Cargar el archivo de Excel\n",
    "    excel_data = pd.ExcelFile(file_path)\n",
    "    \n",
    "    # Iterar sobre cada hoja y guardarla como CSV\n",
    "    for sheet_name in excel_data.sheet_names:\n",
    "        # Leer la hoja\n",
    "        df = excel_data.parse(sheet_name)\n",
    "        # Crear el nombre de archivo CSV para cada hoja\n",
    "        csv_file = f\"{output_folder}/{sheet_name}.csv\"\n",
    "        # Guardar como CSV\n",
    "        df.to_csv(csv_file, index=False)\n",
    "        print(f\"Guardado {csv_file}\")\n",
    "\n",
    "# Ejemplo de uso\n",
    "# convert_excel_to_csv(\"ruta/a/tu_archivo.xlsx\", \"ruta/a/carpeta_de_salida\")\n"
   ]
  },
  {
   "cell_type": "code",
   "execution_count": null,
   "metadata": {},
   "outputs": [],
   "source": [
    "conv"
   ]
  }
 ],
 "metadata": {
  "kernelspec": {
   "display_name": "env",
   "language": "python",
   "name": "python3"
  },
  "language_info": {
   "codemirror_mode": {
    "name": "ipython",
    "version": 3
   },
   "file_extension": ".py",
   "mimetype": "text/x-python",
   "name": "python",
   "nbconvert_exporter": "python",
   "pygments_lexer": "ipython3",
   "version": "3.12.6"
  }
 },
 "nbformat": 4,
 "nbformat_minor": 2
}
