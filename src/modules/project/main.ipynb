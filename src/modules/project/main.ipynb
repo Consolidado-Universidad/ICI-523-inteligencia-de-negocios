{
 "cells": [
  {
   "cell_type": "code",
   "execution_count": null,
   "metadata": {},
   "outputs": [],
   "source": [
    "import pandas as pd\n",
    "\n",
    "def convert_excel_to_csv(file_path, output_folder):\n",
    "    # Cargar el archivo de Excel\n",
    "    excel_data = pd.ExcelFile(file_path)\n",
    "    \n",
    "    # Iterar sobre cada hoja y guardarla como CSV\n",
    "    for sheet_name in excel_data.sheet_names:\n",
    "        # Leer la hoja\n",
    "        df = excel_data.parse(sheet_name)\n",
    "        # Crear el nombre de archivo CSV para cada hoja\n",
    "        csv_file = f\"{output_folder}/{sheet_name}.csv\"\n",
    "        # Guardar como CSV\n",
    "        df.to_csv(csv_file, index=False)\n",
    "        print(f\"Guardado {csv_file}\")\n",
    "\n",
    "# Ejemplo de uso\n",
    "# convert_excel_to_csv(\"ruta/a/tu_archivo.xlsx\", \"ruta/a/carpeta_de_salida\")\n"
   ]
  }
 ],
 "metadata": {
  "language_info": {
   "name": "python"
  }
 },
 "nbformat": 4,
 "nbformat_minor": 2
}
